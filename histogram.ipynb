{
 "cells": [
  {
   "cell_type": "markdown",
   "id": "4f897c25-e4df-470d-9886-69cea175072a",
   "metadata": {},
   "source": [
    "# Histogram:"
   ]
  },
  {
   "cell_type": "markdown",
   "id": "4604ff43-7f90-4e48-9314-b9e2afb51bdd",
   "metadata": {},
   "source": [
    "### Definition:\n",
    "Zeigt die Häufigkeit oder relative Häufigkeit von Werten innerhalb bestimmter Intervalle. Es besteht aus Balken, wobei die Höhe der Balken die Häufigkeit der Daten in jedem Intervall zeigt.\n",
    "### Verwendung:\n",
    "- Gibt Einblicke über die Schiefe, Ausreißer und Variabilität in Datenverteilung\n",
    "- Die Schiefe kann anhand der Form des Histogramms beurteilet werden.\n",
    "- Datenvariabilität, Cluster, Läcken, Muster lassen sich beobachtet.\n",
    "- Auswahl der Skala ist wichtig"
   ]
  },
  {
   "cell_type": "code",
   "execution_count": 5,
   "id": "a49e04f3-7366-4589-b664-17f0ab54c95e",
   "metadata": {},
   "outputs": [],
   "source": [
    "# Daten importieren\n",
    "from sklearn.datasets import load_iris\n",
    "import pandas as pd\n",
    "\n",
    "# Laden des Iris-Datensatzes\n",
    "iris = load_iris()"
   ]
  },
  {
   "cell_type": "code",
   "execution_count": 6,
   "id": "2c65b889-daf5-4237-840b-7f53e6b6d71c",
   "metadata": {},
   "outputs": [
    {
     "data": {
      "text/plain": [
       "['sepal length (cm)',\n",
       " 'sepal width (cm)',\n",
       " 'petal length (cm)',\n",
       " 'petal width (cm)']"
      ]
     },
     "execution_count": 6,
     "metadata": {},
     "output_type": "execute_result"
    }
   ],
   "source": [
    "headers = iris.feature_names\n",
    "headers\n"
   ]
  },
  {
   "cell_type": "code",
   "execution_count": 7,
   "id": "85d7be15-b04c-4bb2-9244-81ef27d4b206",
   "metadata": {},
   "outputs": [],
   "source": [
    "df = pd.DataFrame(data = iris.data, columns=headers)"
   ]
  },
  {
   "cell_type": "code",
   "execution_count": 14,
   "id": "05ef2208-e205-4fb8-a3f6-faf52fac9921",
   "metadata": {},
   "outputs": [
    {
     "data": {
      "text/plain": [
       "<Axes: ylabel='Frequency'>"
      ]
     },
     "execution_count": 14,
     "metadata": {},
     "output_type": "execute_result"
    },
    {
     "data": {
      "image/png": "[encoded data removed]",
      "text/plain": [
       "<Figure size 640x480 with 1 Axes>"
      ]
     },
     "metadata": {},
     "output_type": "display_data"
    }
   ],
   "source": [
    "# Histogram erstellen\n",
    "df['sepal length (cm)'].plot(kind='hist', bins =25)"
   ]
  },
  {
   "cell_type": "markdown",
   "id": "823657ec-0a96-47f1-a594-66a07e1935d0",
   "metadata": {},
   "source": [
    "- Die häufig vorkommenden Blumen in Daten haben den sepal length um 5 herum\n",
    "- Daten hat vi"
   ]
  },
  {
   "cell_type": "code",
   "execution_count": null,
   "id": "7d39388b-f2a6-42ec-a580-2762bf3c115d",
   "metadata": {},
   "outputs": [],
   "source": []
  }
 ],
 "metadata": {
  "kernelspec": {
   "display_name": "Python 3 (ipykernel)",
   "language": "python",
   "name": "python3"
  },
  "language_info": {
   "codemirror_mode": {
    "name": "ipython",
    "version": 3
   },
   "file_extension": ".py",
   "mimetype": "text/x-python",
   "name": "python",
   "nbconvert_exporter": "python",
   "pygments_lexer": "ipython3",
   "version": "3.11.7"
  }
 },
 "nbformat": 4,
 "nbformat_minor": 5
}
